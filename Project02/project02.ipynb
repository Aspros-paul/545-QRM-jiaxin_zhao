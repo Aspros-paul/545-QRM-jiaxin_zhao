{
 "cells": [
  {
   "cell_type": "code",
   "execution_count": 1,
   "metadata": {},
   "outputs": [],
   "source": [
    "import numpy as np\n",
    "import pandas as pd\n",
    "from scipy.stats import norm, t\n",
    "from numpy.linalg import cholesky, eig\n",
    "import matplotlib.pyplot as plt\n",
    "from scipy.optimize import minimize\n",
    "from scipy.stats import spearmanr"
   ]
  },
  {
   "cell_type": "markdown",
   "metadata": {},
   "source": [
    "Q1"
   ]
  },
  {
   "cell_type": "code",
   "execution_count": 2,
   "metadata": {},
   "outputs": [
    {
     "name": "stdout",
     "output_type": "stream",
     "text": [
      "Arithmetic Returns (Last 5 Rows):\n",
      "           Date       SPY      AAPL      EQIX\n",
      "499  2024-12-27 -0.011492 -0.014678 -0.006966\n",
      "500  2024-12-30 -0.012377 -0.014699 -0.008064\n",
      "501  2024-12-31 -0.004603 -0.008493  0.006512\n",
      "502  2025-01-02 -0.003422 -0.027671  0.000497\n",
      "503  2025-01-03  0.011538 -0.003445  0.015745\n",
      "\n",
      "Log Returns (Last 5 Rows):\n",
      "           Date       SPY      AAPL      EQIX\n",
      "499  2024-12-27 -0.011515 -0.014675 -0.006867\n",
      "500  2024-12-30 -0.012410 -0.014696 -0.007972\n",
      "501  2024-12-31 -0.004577 -0.008427  0.006602\n",
      "502  2025-01-02 -0.003392 -0.027930  0.000613\n",
      "503  2025-01-03  0.011494 -0.003356  0.015725\n",
      "\n",
      "Standard Deviation Per Stock:\n",
      "Arithmetic Returns:\n",
      "SPY     0.008077\n",
      "AAPL    0.013483\n",
      "EQIX    0.015361\n",
      "dtype: float64\n",
      "\n",
      "Log Returns:\n",
      "SPY     0.008078\n",
      "AAPL    0.013446\n",
      "EQIX    0.015270\n",
      "dtype: float64\n",
      "\n",
      "Total Standard Deviation:\n",
      "Arithmetic Returns: 0.03692020042548767\n",
      "Log Returns: 0.036794890604909536\n"
     ]
    },
    {
     "name": "stderr",
     "output_type": "stream",
     "text": [
      "/Users/zhaojiaxin/opt/anaconda3/lib/python3.9/site-packages/pandas/core/internals/blocks.py:402: RuntimeWarning: invalid value encountered in log\n",
      "  result = func(self.values, **kwargs)\n"
     ]
    }
   ],
   "source": [
    "import pandas as pd\n",
    "import numpy as np\n",
    "\n",
    "file_path = \"DailyPrices.csv\"\n",
    "df = pd.read_csv(file_path)\n",
    "\n",
    "selected_stocks = [\"SPY\", \"AAPL\", \"EQIX\"]\n",
    "df_selected = df[[\"Date\"] + selected_stocks]\n",
    "\n",
    "arithmetic_returns = df_selected.drop(columns=[\"Date\"]).pct_change()\n",
    "arithmetic_mean = arithmetic_returns.mean()\n",
    "arithmetic_returns -= arithmetic_mean\n",
    "arithmetic_stock_std = arithmetic_returns.std()\n",
    "arithmetic_total_std = arithmetic_stock_std.sum()\n",
    "\n",
    "\n",
    "arithmetic_returns.insert(0, \"Date\", df_selected[\"Date\"])\n",
    "arithmetic_returns = arithmetic_returns.dropna()\n",
    "\n",
    "\n",
    "log_returns = np.log(df_selected.drop(columns=[\"Date\"]) / df_selected.drop(columns=[\"Date\"]).shift(1))\n",
    "log_mean = log_returns.mean()\n",
    "log_returns -= log_mean\n",
    "log_stock_std = log_returns.std()\n",
    "log_total_std = log_stock_std.sum()\n",
    "\n",
    "\n",
    "log_returns.insert(0, \"Date\", df_selected[\"Date\"])\n",
    "log_returns = log_returns.dropna()\n",
    "\n",
    "print(\"Arithmetic Returns (Last 5 Rows):\")\n",
    "print(arithmetic_returns.tail())\n",
    "print(\"\\nLog Returns (Last 5 Rows):\")\n",
    "print(log_returns.tail())\n",
    "print(\"\\nStandard Deviation Per Stock:\")\n",
    "print(\"Arithmetic Returns:\")\n",
    "print(arithmetic_stock_std)\n",
    "print(\"\\nLog Returns:\")\n",
    "print(log_stock_std)\n",
    "print(\"\\nTotal Standard Deviation:\")\n",
    "print(f\"Arithmetic Returns: {arithmetic_total_std}\")\n",
    "print(f\"Log Returns: {log_total_std}\")\n"
   ]
  },
  {
   "cell_type": "markdown",
   "metadata": {},
   "source": [
    "Q2"
   ]
  },
  {
   "cell_type": "code",
   "execution_count": 3,
   "metadata": {},
   "outputs": [],
   "source": [
    "def calculate_ewcov(returns_df, lambda_param=0.97):\n",
    "\n",
    "    if 'Date' in returns_df.columns:\n",
    "        returns_df = returns_df.set_index('Date')\n",
    "    T = len(returns_df)\n",
    "    N = len(returns_df.columns)\n",
    "    weights = np.array([lambda_param ** i for i in range(T-1, -1, -1)])\n",
    "    weights = weights / np.sum(weights)\n",
    "    weighted_means = np.sum(returns_df.values * weights.reshape(-1, 1), axis=0)\n",
    "    demeaned_returns = returns_df.values - weighted_means\n",
    "    cov_matrix = np.zeros((N, N))\n",
    "    for i in range(N):\n",
    "        for j in range(i, N):\n",
    "            cov = np.sum(weights * demeaned_returns[:, i] * demeaned_returns[:, j])\n",
    "            cov_matrix[i, j] = cov\n",
    "            cov_matrix[j, i] = cov\n",
    "\n",
    "    return pd.DataFrame(cov_matrix, index=returns_df.columns, columns=returns_df.columns)\n",
    "\n",
    "\n",
    "def fit_t_dist_zero_mean(x):\n",
    "\n",
    "    x = np.asarray(x)\n",
    "\n",
    "    def neg_log_lik(params):\n",
    "        df_, scale_ = params\n",
    "        if df_ <= 2.01 or scale_ <= 1e-9:\n",
    "            return 1e20\n",
    "        pdf_vals = t.pdf(x, df_, loc=0.0, scale=scale_)\n",
    "        if np.any(pdf_vals <= 0):\n",
    "            return 1e20\n",
    "        return -np.sum(np.log(pdf_vals))\n",
    "    df_init = 5.0\n",
    "    scale_init = np.sqrt(np.mean(x**2)) \n",
    "    bnds = ((2.01, 100.0), (1e-9, None))\n",
    "    res = minimize(neg_log_lik, x0=[df_init, scale_init], method=\"L-BFGS-B\", bounds=bnds)\n",
    "    df_hat, scale_hat = res.x\n",
    "    return df_hat, scale_hat\n",
    "\n"
   ]
  },
  {
   "cell_type": "markdown",
   "metadata": {},
   "source": [
    "1 "
   ]
  },
  {
   "cell_type": "code",
   "execution_count": 4,
   "metadata": {},
   "outputs": [
    {
     "name": "stdout",
     "output_type": "stream",
     "text": [
      "A) Current Portfolio Value on 2025-01-03 = $ 251,862.50\n"
     ]
    }
   ],
   "source": [
    "df_prices = pd.read_csv(\"DailyPrices.csv\", parse_dates=[\"Date\"])\n",
    "df_prices.sort_values(\"Date\", inplace=True)\n",
    "\n",
    "holdings = {\n",
    "    \"SPY\":  100.0,\n",
    "    \"AAPL\": 200.0,\n",
    "    \"EQIX\": 150.0\n",
    "}\n",
    "\n",
    "today_str = \"2025-01-03\"\n",
    "row_today = df_prices.loc[df_prices[\"Date\"] == today_str]\n",
    "if row_today.empty:\n",
    "    raise ValueError(f\"Date {today_str} not found in CSV.\")\n",
    "\n",
    "prices_today = {}\n",
    "for ticker in holdings.keys():\n",
    "    prices_today[ticker] = float(row_today[ticker].values[0])\n",
    "\n",
    "portfolio_value = 0.0\n",
    "for ticker, shares in holdings.items():\n",
    "    portfolio_value += shares * prices_today[ticker]\n",
    "print(\"A) Current Portfolio Value on 2025-01-03 = $\", f\"{portfolio_value:,.2f}\")"
   ]
  },
  {
   "cell_type": "markdown",
   "metadata": {},
   "source": [
    "2 a"
   ]
  },
  {
   "cell_type": "code",
   "execution_count": 5,
   "metadata": {},
   "outputs": [
    {
     "name": "stdout",
     "output_type": "stream",
     "text": [
      "3856.3183014814767\n",
      "4835.978727805546\n"
     ]
    }
   ],
   "source": [
    "tickers_used = list(holdings.keys())\n",
    "use_cols = [\"Date\"] + tickers_used\n",
    "df_sub = df_prices[use_cols].copy()\n",
    "df_sub.sort_values(\"Date\", inplace=True)\n",
    "df_sub.dropna(inplace=True)\n",
    "df_sub.set_index(\"Date\", inplace=True)\n",
    "df_ret = df_sub / df_sub.shift(1) - 1.0\n",
    "df_ret.dropna(inplace=True)\n",
    "df_ret_zm = df_ret - df_ret.mean(axis=0)\n",
    "\n",
    "alpha = 0.05\n",
    "ew_cov_df = calculate_ewcov(df_ret_zm, lambda_param=0.97)\n",
    "ew_cov = ew_cov_df.values \n",
    "\n",
    "z05 = norm.ppf(alpha)\n",
    "pdf_z05 = norm.pdf(z05)  \n",
    "\n",
    "asset_vals = np.array([holdings[t] * prices_today[t] for t in tickers_used])\n",
    "w_dollar = asset_vals / portfolio_value\n",
    "port_var = w_dollar @ ew_cov @ w_dollar\n",
    "port_std = np.sqrt(port_var)\n",
    "\n",
    "var_normal = -z05 * port_std * portfolio_value\n",
    "es_normal = port_std * (pdf_z05 / alpha) * portfolio_value\n",
    "\n",
    "print(var_normal)\n",
    "print(es_normal)"
   ]
  },
  {
   "cell_type": "markdown",
   "metadata": {},
   "source": [
    "2 b"
   ]
  },
  {
   "cell_type": "code",
   "execution_count": 6,
   "metadata": {},
   "outputs": [
    {
     "name": "stdout",
     "output_type": "stream",
     "text": [
      "current value of the portfolio: $251,862.50\n",
      "5% VaR = $4,464.07\n",
      "5% ES  = $6,116.37\n"
     ]
    }
   ],
   "source": [
    "import numpy as np\n",
    "import pandas as pd\n",
    "import scipy.stats as st\n",
    "\n",
    "def method_2b_t_copula(csv_file, selected_stocks, shares_dict, alpha=0.05):\n",
    "    df_prices = pd.read_csv(csv_file, parse_dates=[\"Date\"])\n",
    "    df_prices.sort_values(\"Date\", inplace=True, ignore_index=True)\n",
    "    df_ret = df_prices.copy()\n",
    "    for stk in selected_stocks:\n",
    "        df_ret[stk] = df_ret[stk].pct_change()\n",
    "    df_ret.dropna(inplace=True)\n",
    "\n",
    "    arithmetic_return_remove_mean = {}\n",
    "    for stk in selected_stocks:\n",
    "        arr = df_ret[stk].values\n",
    "        arr_no_mean = arr - np.mean(arr)\n",
    "        arithmetic_return_remove_mean[stk] = arr_no_mean\n",
    "    \n",
    "    t_params = {}\n",
    "    for stk in selected_stocks:\n",
    "        data = arithmetic_return_remove_mean[stk]\n",
    "        df_, loc_, scale_ = st.t.fit(data, method=\"MLE\")\n",
    "        t_params[stk] = (df_, loc_, scale_)\n",
    "\n",
    "    U = pd.DataFrame()\n",
    "    for stk in selected_stocks:\n",
    "        df_, loc_, scale_ = t_params[stk]\n",
    "        data = arithmetic_return_remove_mean[stk]\n",
    "        U[stk] = st.t.cdf(data, df_, loc_, scale_)\n",
    "    Z = U.apply(lambda x: st.norm.ppf(x))\n",
    "    \n",
    "    R_spearman = Z.corr(method='spearman')\n",
    "    n_samples = 10000\n",
    "    np.random.seed(42)\n",
    "    copula_sim = st.multivariate_normal.rvs(\n",
    "        mean=np.zeros(len(selected_stocks)),\n",
    "        cov=R_spearman,\n",
    "        size=n_samples\n",
    "    )\n",
    "    \n",
    "    sim_returns_t = np.zeros_like(copula_sim)\n",
    "    for i, stk in enumerate(selected_stocks):\n",
    "        df_, loc_, scale_ = t_params[stk]\n",
    "        sim_u = st.norm.cdf(copula_sim[:, i])\n",
    "        sim_returns_t[:, i] = st.t.ppf(sim_u, df_, loc_, scale_)\n",
    "    \n",
    "    latest_row = df_prices.iloc[-1]\n",
    "    sim_pnl_t = np.zeros(n_samples)\n",
    "    for i, stk in enumerate(selected_stocks):\n",
    "        n_shares = shares_dict[stk]\n",
    "        price_now = latest_row[stk]\n",
    "        sim_pnl_t += n_shares * price_now * sim_returns_t[:, i]\n",
    "    \n",
    "    var_5 = np.percentile(sim_pnl_t, alpha * 100)\n",
    "    tail_mask = (sim_pnl_t <= var_5)\n",
    "    if np.any(tail_mask):\n",
    "        es_5 = sim_pnl_t[tail_mask].mean()\n",
    "    else:\n",
    "        es_5 = var_5\n",
    "    \n",
    "    portfolio_value = 0.0\n",
    "    for stk in selected_stocks:\n",
    "        portfolio_value += shares_dict[stk] * latest_row[stk]\n",
    "    \n",
    "    return var_5, es_5, sim_pnl_t, portfolio_value\n",
    "\n",
    "\n",
    "csv_file = \"DailyPrices.csv\"\n",
    "\n",
    "selected_stocks = [\"SPY\", \"AAPL\", \"EQIX\"]\n",
    "shares_dict = {\n",
    "    \"SPY\": 100.0,\n",
    "    \"AAPL\": 200.0,\n",
    "    \"EQIX\": 150.0\n",
    "}\n",
    "\n",
    "alpha = 0.05\n",
    "var_5, es_5, sim_pnl_t, port_val = method_2b_t_copula(\n",
    "    csv_file, \n",
    "    selected_stocks, \n",
    "    shares_dict, \n",
    "    alpha=alpha\n",
    ")\n",
    "\n",
    "print(f\"current value of the portfolio: ${port_val:,.2f}\")\n",
    "print(f\"{int(alpha*100)}% VaR = ${-var_5:,.2f}\")\n",
    "print(f\"{int(alpha*100)}% ES  = ${-es_5:,.2f}\")\n"
   ]
  },
  {
   "cell_type": "markdown",
   "metadata": {},
   "source": [
    "2 c "
   ]
  },
  {
   "cell_type": "code",
   "execution_count": 7,
   "metadata": {},
   "outputs": [
    {
     "name": "stdout",
     "output_type": "stream",
     "text": [
      "5% Historical VaR: $4,575.03\n",
      "5% Historical ES: $6,059.39\n"
     ]
    }
   ],
   "source": [
    "import numpy as np\n",
    "import pandas as pd\n",
    "from scipy.stats import norm\n",
    "pl_hist = (df_ret_zm.values @ np.array([holdings[t] * prices_today[t] for t in tickers_used]))\n",
    "var_hist = np.percentile(pl_hist, alpha * 100) \n",
    "es_hist = pl_hist[pl_hist <= var_hist].mean() if np.any(pl_hist <= var_hist) else var_hist \n",
    "print(f\"{int(alpha * 100)}% Historical VaR: ${-var_hist:,.2f}\")\n",
    "print(f\"{int(alpha * 100)}% Historical ES: ${-es_hist:,.2f}\")"
   ]
  },
  {
   "cell_type": "markdown",
   "metadata": {},
   "source": [
    "3A, 3B"
   ]
  },
  {
   "cell_type": "code",
   "execution_count": 31,
   "metadata": {},
   "outputs": [
    {
     "name": "stdout",
     "output_type": "stream",
     "text": [
      "Implied Volatility = 33.51%\n",
      "Delta of Call = 0.6659\n",
      "Delta of Put  = -0.3341\n",
      "Vega  of Call = 5.6407\n",
      "Theta of Call = -5.5446\n",
      "Theta of Put  = -2.6186\n",
      "actual change = 0.0565\n",
      "Vega Approximation= 0.0564 \n"
     ]
    }
   ],
   "source": [
    "import math\n",
    "from math import log, sqrt, exp\n",
    "from scipy.stats import norm\n",
    "from scipy.optimize import brentq\n",
    "\n",
    "def call_price_bs(S, X, T, r, sigma):\n",
    "    d1 = (log(S/X) + (r + 0.5*sigma**2)*T) / (sigma*sqrt(T))\n",
    "    d2 = d1 - sigma*sqrt(T)\n",
    "    C = S * norm.cdf(d1) - X * exp(-r*T) * norm.cdf(d2)\n",
    "    return C\n",
    "\n",
    "def put_price_bs(S, X, T, r, sigma):\n",
    "    d1 = (log(S/X) + (r + 0.5*sigma**2)*T) / (sigma*sqrt(T))\n",
    "    d2 = d1 - sigma*sqrt(T)\n",
    "    P = X * exp(-r*T) * norm.cdf(-d2) - S * norm.cdf(-d1)\n",
    "    return P\n",
    "\n",
    "def implied_vol_call_bs(S, X, T, r, market_price):\n",
    "    def objective(sigma):\n",
    "        return call_price_bs(S, X, T, r, sigma) - market_price\n",
    "    vol_lower, vol_upper = 1e-6, 5.0\n",
    "    return brentq(objective, vol_lower, vol_upper)\n",
    "\n",
    "def call_delta(S, X, T, r, sigma):\n",
    "    d1 = (log(S/X) + (r + 0.5*sigma**2)*T) / (sigma*sqrt(T))\n",
    "    return norm.cdf(d1)\n",
    "\n",
    "def put_delta(S, X, T, r, sigma):\n",
    "    d1 = (log(S/X) + (r + 0.5*sigma**2)*T) / (sigma*sqrt(T))\n",
    "    return norm.cdf(d1) - 1\n",
    "\n",
    "def call_vega(S, X, T, r, sigma):\n",
    "    d1 = (log(S/X) + (r + 0.5*sigma**2)*T) / (sigma*sqrt(T))\n",
    "    return S * norm.pdf(d1) * sqrt(T)\n",
    "\n",
    "def call_theta(S, X, T, r, sigma):\n",
    "    d1 = (log(S/X) + (r + 0.5*sigma**2)*T) / (sigma*sqrt(T))\n",
    "    d2 = d1 - sigma*sqrt(T)\n",
    "    term1 = - (S * norm.pdf(d1) * sigma) / (2.0 * sqrt(T))\n",
    "    term2 = - r * X * exp(-r*T) * norm.cdf(d2)\n",
    "    return term1 + term2\n",
    "\n",
    "def put_theta(S, X, T, r, sigma):\n",
    "    d1 = (log(S/X) + (r + 0.5*sigma**2)*T) / (sigma*sqrt(T))\n",
    "    d2 = d1 - sigma*sqrt(T)\n",
    "    term1 = - (S * norm.pdf(d1) * sigma) / (2.0 * sqrt(T))\n",
    "    term2 = r * X * exp(-r*T) * norm.cdf(-d2)\n",
    "    return term1 + term2\n",
    "\n",
    "S = 31.0      \n",
    "X = 30.0      \n",
    "r = 0.10    \n",
    "T = 0.25     \n",
    "call_market_price = 3.0 \n",
    "\n",
    "sigma_iv = implied_vol_call_bs(S, X, T, r, call_market_price)\n",
    "print(f\"Implied Volatility = {sigma_iv*100:.2f}%\")\n",
    "\n",
    "delta_c = call_delta(S, X, T, r, sigma_iv)\n",
    "delta_p = put_delta(S, X, T, r, sigma_iv)\n",
    "vega_c  = call_vega(S, X, T, r, sigma_iv)\n",
    "theta_c = call_theta(S, X, T, r, sigma_iv)\n",
    "theta_p = put_theta(S, X, T, r, sigma_iv)\n",
    "\n",
    "print(f\"Delta of Call = {delta_c:.4f}\")\n",
    "print(f\"Delta of Put  = {delta_p:.4f}\")\n",
    "print(f\"Vega  of Call = {vega_c:.4f}\")\n",
    "print(f\"Theta of Call = {theta_c:.4f}\")\n",
    "print(f\"Theta of Put  = {theta_p:.4f}\")\n",
    "\n",
    "sigma_new = sigma_iv + 0.01\n",
    "call_price_current = call_price_bs(S, X, T, r, sigma_iv)\n",
    "call_price_new = call_price_bs(S, X, T, r, sigma_new)\n",
    "price_change_actual = call_price_new - call_price_current\n",
    "price_change_approx = vega_c * 0.01\n",
    "\n",
    "print(f\"actual change = {price_change_actual:.4f}\")\n",
    "print(f\"Vega Approximation= {price_change_approx:.4f} \")\n"
   ]
  },
  {
   "cell_type": "markdown",
   "metadata": {},
   "source": [
    "3C"
   ]
  },
  {
   "cell_type": "code",
   "execution_count": 9,
   "metadata": {},
   "outputs": [
    {
     "name": "stdout",
     "output_type": "stream",
     "text": [
      "Put Price (same T, X) = 1.2593\n",
      "LHS = Call + PV(X) = 32.2593\n",
      "RHS = Put + S      = 32.2593\n",
      "Difference (LHS - RHS) = 0.00000000\n"
     ]
    }
   ],
   "source": [
    "put_price = put_price_bs(S, X, T, r, sigma_iv)\n",
    "print(f\"Put Price (same T, X) = {put_price:.4f}\")\n",
    "\n",
    "lhs = call_market_price + X*exp(-r*T)\n",
    "rhs = put_price + S\n",
    "print(f\"LHS = Call + PV(X) = {lhs:.4f}\")\n",
    "print(f\"RHS = Put + S      = {rhs:.4f}\")\n",
    "diff = lhs - rhs\n",
    "print(f\"Difference (LHS - RHS) = {diff:.8f}\") "
   ]
  },
  {
   "cell_type": "markdown",
   "metadata": {},
   "source": [
    "3D"
   ]
  },
  {
   "cell_type": "code",
   "execution_count": 10,
   "metadata": {},
   "outputs": [
    {
     "name": "stdout",
     "output_type": "stream",
     "text": [
      "\n",
      "=== Portfolio Initial Info ===\n",
      "Stock Price        = 31.00\n",
      "Call Price         = 3.0000\n",
      "Put  Price         = 1.2593\n",
      "Initial Portfolio  = 35.2593\n"
     ]
    }
   ],
   "source": [
    "import numpy as np\n",
    "import math\n",
    "from scipy.stats import norm\n",
    "from scipy.optimize import brentq\n",
    "\n",
    "trading_days_per_year = 255\n",
    "holding_days = 20  \n",
    "alpha = 0.05      \n",
    "stock_annual_vol = 0.25 \n",
    "\n",
    "sigma_daily = stock_annual_vol / math.sqrt(trading_days_per_year)\n",
    "sigma_20d = sigma_daily * math.sqrt(holding_days)\n",
    "\n",
    "call_market_price = 3.0  \n",
    "sigma_iv = implied_vol_call_bs(S, X, T, r, call_market_price)\n",
    "\n",
    "call_0 = call_price_bs(S, X, T, r, sigma_iv)\n",
    "put_0  = put_price_bs(S, X, T, r, sigma_iv)\n",
    "portfolio_0 = call_0 + put_0 + S \n",
    "\n",
    "print(\"\\n=== Portfolio Initial Info ===\")\n",
    "print(f\"Stock Price        = {S:.2f}\")\n",
    "print(f\"Call Price         = {call_0:.4f}\")\n",
    "print(f\"Put  Price         = {put_0:.4f}\")\n",
    "print(f\"Initial Portfolio  = {portfolio_0:.4f}\")"
   ]
  },
  {
   "cell_type": "markdown",
   "metadata": {},
   "source": [
    "3D d"
   ]
  },
  {
   "cell_type": "code",
   "execution_count": null,
   "metadata": {},
   "outputs": [
    {
     "name": "stdout",
     "output_type": "stream",
     "text": [
      "\n",
      "=== (d) Delta-Normal Approximation (with Theta) ===\n",
      "Portfolio Delta = 1.3319\n",
      "Portfolio Theta = -8.1632\n",
      "Mean of 20d PnL = -0.6403\n",
      "Std of 20d PnL  = 2.8907\n",
      "VaR  (95%)      = 5.3951\n",
      "ES   (95%)      = -5.3225\n"
     ]
    }
   ],
   "source": [
    "delta_call = call_delta(S, X, T, r, sigma_iv)\n",
    "delta_put  = put_delta(S, X, T, r, sigma_iv)\n",
    "delta_stock= 1.0\n",
    "portfolio_delta = delta_call + delta_put + delta_stock\n",
    "\n",
    "theta_call = call_theta(S, X, T, r, sigma_iv)\n",
    "theta_put = put_theta(S, X, T, r, sigma_iv)  \n",
    "portfolio_theta = theta_call + theta_put  \n",
    "\n",
    "dt = holding_days / trading_days_per_year\n",
    "mean_pnl = portfolio_theta * dt \n",
    "\n",
    "std_pnl = abs(portfolio_delta) * S * sigma_20d \n",
    "z_alpha = norm.ppf(alpha)\n",
    "var_delta_normal = -(mean_pnl + z_alpha * std_pnl) \n",
    "\n",
    "phi_z = norm.pdf(z_alpha)\n",
    "es_delta_normal = - (std_pnl * phi_z / alpha + mean_pnl)\n",
    "\n",
    "print(\"\\n=== (d) Delta-Normal Approximation (with Theta) ===\")\n",
    "print(f\"Portfolio Delta = {portfolio_delta:.4f}\")\n",
    "print(f\"Portfolio Theta = {portfolio_theta:.4f}\")\n",
    "print(f\"Mean of 20d PnL = {mean_pnl:.4f}\")\n",
    "print(f\"Std of 20d PnL  = {std_pnl:.4f}\")\n",
    "print(f\"VaR  (95%)      = {var_delta_normal:.4f}\")\n",
    "print(f\"ES   (95%)      = {es_delta_normal:.4f}\")"
   ]
  },
  {
   "cell_type": "markdown",
   "metadata": {},
   "source": [
    "3De"
   ]
  },
  {
   "cell_type": "code",
   "execution_count": 23,
   "metadata": {},
   "outputs": [
    {
     "name": "stdout",
     "output_type": "stream",
     "text": [
      "\n",
      "=== (e) Monte Carlo Simulation ===\n",
      "Number of sims = 50000\n",
      "Mean of PnL    = -0.2213\n",
      "VaR  (95%)     = 4.1190\n",
      "ES   (95%)     = 4.5785\n"
     ]
    }
   ],
   "source": [
    "n_sims = 50000\n",
    "np.random.seed(42)\n",
    "\n",
    "mu = 0  \n",
    "rands = np.random.normal(mu, sigma_20d, n_sims)\n",
    "S_20d = S * np.exp(rands)\n",
    "\n",
    "T_new = T - (holding_days / trading_days_per_year)\n",
    "call_20d = [call_price_bs(s_i, X, T_new, r, sigma_iv) for s_i in S_20d]\n",
    "put_20d  = [put_price_bs(s_i, X, T_new, r, sigma_iv)  for s_i in S_20d]\n",
    "\n",
    "portfolio_20d = np.array(call_20d) + np.array(put_20d) + S_20d\n",
    "pnl = portfolio_20d - portfolio_0\n",
    "\n",
    "pnl_sorted = np.sort(pnl)\n",
    "idx_var = int(alpha * n_sims)\n",
    "var_mc = -pnl_sorted[idx_var]\n",
    "es_mc = -pnl_sorted[:idx_var].mean()\n",
    "\n",
    "print(\"\\n=== (e) Monte Carlo Simulation ===\")\n",
    "print(f\"Number of sims = {n_sims}\")\n",
    "print(f\"Mean of PnL    = {pnl.mean():.4f}\")\n",
    "print(f\"VaR  (95%)     = {var_mc:.4f}\")\n",
    "print(f\"ES   (95%)     = {es_mc:.4f}\")"
   ]
  },
  {
   "cell_type": "markdown",
   "metadata": {},
   "source": [
    "3E"
   ]
  },
  {
   "cell_type": "code",
   "execution_count": 27,
   "metadata": {},
   "outputs": [
    {
     "data": {
      "image/png": "[encoded data removed]",
      "text/plain": [
       "<Figure size 720x432 with 1 Axes>"
      ]
     },
     "metadata": {
      "needs_background": "light"
     },
     "output_type": "display_data"
    }
   ],
   "source": [
    "import numpy as np\n",
    "import matplotlib.pyplot as plt\n",
    "\n",
    "S_range = np.linspace(20, 40, 100)\n",
    "\n",
    "call_vals_true = np.array([call_price_bs(s, X, T_new, r, sigma_iv) for s in S_range])\n",
    "put_vals_true = np.array([put_price_bs(s, X, T_new, r, sigma_iv) for s in S_range])\n",
    "portfolio_true = call_vals_true + put_vals_true + S_range \n",
    "\n",
    "\n",
    "call_vals_mc = np.array([call_price_bs(s, X, T_new, r, sigma_iv) for s in S_range])\n",
    "put_vals_mc = np.array([put_price_bs(s, X, T_new, r, sigma_iv) for s in S_range])\n",
    "portfolio_mc = call_vals_mc + put_vals_mc + S_range  \n",
    "\n",
    "portfolio_dn = portfolio_0 + portfolio_delta * (S_range - S)  \n",
    "\n",
    "plt.figure(figsize=(10, 6))\n",
    "plt.plot(S_range, portfolio_true, label=\"True Portfolio Value (BS Model)\", color='green')\n",
    "plt.plot(S_range, portfolio_mc, label=\"Monte Carlo Portfolio Value\", linestyle=\"-.\", color='blue')\n",
    "plt.plot(S_range, portfolio_dn, label=\"Delta-Normal Approximation\", linestyle=\"--\", color='red')\n",
    "plt.axvline(x=S, color='black', linestyle=\":\", label=\"Current Stock Price\")\n",
    "\n",
    "plt.xlabel(\"Stock Price ($)\")\n",
    "plt.ylabel(\"Portfolio Value ($)\")\n",
    "plt.title(\"Portfolio Value vs Stock Price: True vs Monte Carlo vs Delta-Normal\")\n",
    "plt.legend()\n",
    "plt.grid(True)\n",
    "plt.show()\n"
   ]
  }
 ],
 "metadata": {
  "kernelspec": {
   "display_name": "base",
   "language": "python",
   "name": "python3"
  },
  "language_info": {
   "codemirror_mode": {
    "name": "ipython",
    "version": 3
   },
   "file_extension": ".py",
   "mimetype": "text/x-python",
   "name": "python",
   "nbconvert_exporter": "python",
   "pygments_lexer": "ipython3",
   "version": "3.9.12"
  }
 },
 "nbformat": 4,
 "nbformat_minor": 2
}
